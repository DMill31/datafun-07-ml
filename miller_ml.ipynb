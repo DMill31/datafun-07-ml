{
 "cells": [
  {
   "cell_type": "markdown",
   "metadata": {},
   "source": [
    "# Dan Miller\n",
    "## This Notebook will be used for Project 7 of Data Analytics Fundamentals\n",
    "## 2/24/2025"
   ]
  },
  {
   "cell_type": "markdown",
   "metadata": {},
   "source": [
    "## Imports"
   ]
  },
  {
   "cell_type": "code",
   "execution_count": 164,
   "metadata": {},
   "outputs": [],
   "source": [
    "import pandas as pd\n",
    "import seaborn as sns\n",
    "import matplotlib.pyplot as plt\n",
    "import numpy as np\n",
    "from sklearn.model_selection import train_test_split\n",
    "from sklearn.linear_model import LinearRegression\n",
    "from sklearn import metrics\n",
    "from scipy import stats"
   ]
  },
  {
   "cell_type": "markdown",
   "metadata": {},
   "source": [
    "## Part 1 - Chart a Straight Line"
   ]
  },
  {
   "cell_type": "code",
   "execution_count": 165,
   "metadata": {},
   "outputs": [
    {
     "data": {
      "image/png": "[encoded data removed]",
      "text/plain": [
       "<Figure size 640x480 with 1 Axes>"
      ]
     },
     "metadata": {},
     "output_type": "display_data"
    }
   ],
   "source": [
    "# Create the function\n",
    "c = lambda f: 5/9 * (f - 32)\n",
    "\n",
    "temps = [(f, c(f)) for f in range(0, 101, 10)]\n",
    "\n",
    "# Graph\n",
    "temps_df = pd.DataFrame(temps, columns=['Fahrenheit', 'Celsius'])\n",
    "axes = temps_df.plot(x='Fahrenheit', y='Celsius', style='.-')\n",
    "y_label = axes.set_ylabel('Celsius')\n",
    "plt.show()"
   ]
  },
  {
   "cell_type": "markdown",
   "metadata": {},
   "source": [
    "## Part 2 - Prediction"
   ]
  },
  {
   "cell_type": "markdown",
   "metadata": {},
   "source": [
    "### Section 1 - Data Acquisition"
   ]
  },
  {
   "cell_type": "code",
   "execution_count": 166,
   "metadata": {},
   "outputs": [],
   "source": [
    "#Loading weather data\n",
    "url = r'C:\\Projects\\IntroToPython\\examples\\ch10\\ave_hi_nyc_jan_1895-2018.csv'\n",
    "nyc_df = pd.read_csv(url)"
   ]
  },
  {
   "cell_type": "markdown",
   "metadata": {},
   "source": [
    "### Section 2 - Data Inspection"
   ]
  },
  {
   "cell_type": "code",
   "execution_count": 167,
   "metadata": {},
   "outputs": [
    {
     "name": "stdout",
     "output_type": "stream",
     "text": [
      "     Date  Value  Anomaly\n",
      "0  189501   34.2     -3.2\n",
      "1  189601   34.7     -2.7\n",
      "2  189701   35.5     -1.9\n",
      "3  189801   39.6      2.2\n",
      "4  189901   36.4     -1.0\n"
     ]
    }
   ],
   "source": [
    "# View the head of the data\n",
    "print(nyc_df.head())"
   ]
  },
  {
   "cell_type": "code",
   "execution_count": 168,
   "metadata": {},
   "outputs": [
    {
     "name": "stdout",
     "output_type": "stream",
     "text": [
      "       Date  Value  Anomaly\n",
      "119  201401   35.5     -1.9\n",
      "120  201501   36.1     -1.3\n",
      "121  201601   40.8      3.4\n",
      "122  201701   42.8      5.4\n",
      "123  201801   38.7      1.3\n"
     ]
    }
   ],
   "source": [
    "# View the tail of the data\n",
    "print(nyc_df.tail())"
   ]
  },
  {
   "cell_type": "markdown",
   "metadata": {},
   "source": [
    "### Section 3 - Data Cleaning"
   ]
  },
  {
   "cell_type": "code",
   "execution_count": 169,
   "metadata": {},
   "outputs": [
    {
     "name": "stdout",
     "output_type": "stream",
     "text": [
      "   Date  Temperature  Anomaly\n",
      "0  1895         34.2     -3.2\n",
      "1  1896         34.7     -2.7\n",
      "2  1897         35.5     -1.9\n",
      "3  1898         39.6      2.2\n",
      "4  1899         36.4     -1.0\n"
     ]
    }
   ],
   "source": [
    "# Rename 'Value' column to 'Temperature'\n",
    "nyc_df.columns = ['Date', 'Temperature', 'Anomaly']\n",
    "\n",
    "# Remove the '01' from the 'Date' column for readability\n",
    "nyc_df.Date = nyc_df.Date.floordiv(100)\n",
    "\n",
    "print(nyc_df.head())"
   ]
  },
  {
   "cell_type": "markdown",
   "metadata": {},
   "source": [
    "### Section 4 - Descriptive Statistics"
   ]
  },
  {
   "cell_type": "code",
   "execution_count": 170,
   "metadata": {},
   "outputs": [
    {
     "name": "stdout",
     "output_type": "stream",
     "text": [
      "          Date  Temperature  Anomaly\n",
      "count   124.00       124.00   124.00\n",
      "mean   1956.50        37.60     0.20\n",
      "std      35.94         4.54     4.54\n",
      "min    1895.00        26.10   -11.30\n",
      "25%    1925.75        34.58    -2.82\n",
      "50%    1956.50        37.60     0.20\n",
      "75%    1987.25        40.60     3.20\n",
      "max    2018.00        47.60    10.20\n"
     ]
    }
   ],
   "source": [
    "# Set display precision to 2 decimal places then display the stats\n",
    "pd.set_option('display.precision', 2)\n",
    "print(nyc_df.describe())"
   ]
  },
  {
   "cell_type": "markdown",
   "metadata": {},
   "source": [
    "### Section 5 - Build the Model"
   ]
  },
  {
   "cell_type": "code",
   "execution_count": 171,
   "metadata": {},
   "outputs": [
    {
     "name": "stdout",
     "output_type": "stream",
     "text": [
      "slope: 0.01\n",
      "\n",
      "y-intercept: 8.69\n",
      "\n"
     ]
    }
   ],
   "source": [
    "# Calculate the linear regression line\n",
    "linear_regression = stats.linregress(nyc_df.Date, nyc_df.Temperature)\n",
    "print((f'slope: {linear_regression.slope:.2f}\\n'))  # slope\n",
    "print((f'y-intercept: {linear_regression.intercept:.2f}\\n'))  # y-intercept"
   ]
  },
  {
   "cell_type": "markdown",
   "metadata": {},
   "source": [
    "### Section 6 - Predict"
   ]
  },
  {
   "cell_type": "code",
   "execution_count": 172,
   "metadata": {},
   "outputs": [
    {
     "name": "stdout",
     "output_type": "stream",
     "text": [
      "The predicted average high temperature in January for 2024 is: 38.59 Fahrenheit\n"
     ]
    }
   ],
   "source": [
    "# Predict the average high temperature in January for 2024\n",
    "predicted_temp = linear_regression.slope * 2024 + linear_regression.intercept\n",
    "print(f'The predicted average high temperature in January for 2024 is: {predicted_temp:.2f} Fahrenheit')"
   ]
  },
  {
   "cell_type": "markdown",
   "metadata": {},
   "source": [
    "### Section 7 - Visualizations"
   ]
  },
  {
   "cell_type": "code",
   "execution_count": 173,
   "metadata": {},
   "outputs": [
    {
     "data": {
      "image/png": "[encoded data removed]",
      "text/plain": [
       "<Figure size 640x480 with 1 Axes>"
      ]
     },
     "metadata": {},
     "output_type": "display_data"
    }
   ],
   "source": [
    "# Graph the linear regression line with the data\n",
    "sns.set_style('whitegrid')\n",
    "axes = sns.regplot(x='Date', y='Temperature', data=nyc_df)\n",
    "axes.set_ylim(10, 70)\n",
    "plt.show()"
   ]
  },
  {
   "cell_type": "markdown",
   "metadata": {},
   "source": [
    "## Part 3 - Prediction"
   ]
  },
  {
   "cell_type": "markdown",
   "metadata": {},
   "source": [
    "## Section 1 - Build the Model"
   ]
  },
  {
   "cell_type": "code",
   "execution_count": 174,
   "metadata": {},
   "outputs": [
    {
     "name": "stdout",
     "output_type": "stream",
     "text": [
      "(93, 1)\n"
     ]
    }
   ],
   "source": [
    "# Split the data into training and testing sets\n",
    "x_train, x_test, y_train, y_test = train_test_split(nyc_df.Date.values.reshape(-1,1), nyc_df.Temperature.values, random_state=11)\n",
    "\n",
    "# Check the shape of the training and testing sets\n",
    "print(x_train.shape)"
   ]
  },
  {
   "cell_type": "code",
   "execution_count": 175,
   "metadata": {},
   "outputs": [
    {
     "name": "stdout",
     "output_type": "stream",
     "text": [
      "(31, 1)\n"
     ]
    }
   ],
   "source": [
    "print(x_test.shape)"
   ]
  },
  {
   "cell_type": "code",
   "execution_count": 176,
   "metadata": {},
   "outputs": [
    {
     "name": "stdout",
     "output_type": "stream",
     "text": [
      "Slope: [0.01939167]\n",
      "Intercept: -0.30779820252656975\n"
     ]
    }
   ],
   "source": [
    "# Train the model using linear regression from sklearn\n",
    "\n",
    "linear_regression = LinearRegression()\n",
    "linear_regression.fit(X=x_train, y=y_train)\n",
    "\n",
    "# Print the slope and intercept of the model\n",
    "print(f'Slope: {linear_regression.coef_}')\n",
    "print(f'Intercept: {linear_regression.intercept_}')"
   ]
  },
  {
   "cell_type": "markdown",
   "metadata": {},
   "source": [
    "### Section 2 - Test the Model"
   ]
  },
  {
   "cell_type": "code",
   "execution_count": 177,
   "metadata": {},
   "outputs": [
    {
     "name": "stdout",
     "output_type": "stream",
     "text": [
      "predicted: 37.86, expected: 31.70\n",
      "predicted: 38.69, expected: 34.80\n",
      "predicted: 37.00, expected: 39.40\n",
      "predicted: 37.25, expected: 45.70\n",
      "predicted: 38.05, expected: 32.30\n",
      "predicted: 37.64, expected: 33.80\n",
      "predicted: 36.94, expected: 39.70\n"
     ]
    }
   ],
   "source": [
    "# Now make predictions to assewss the model's accuracy\n",
    "\n",
    "predicted = linear_regression.predict(x_test)\n",
    "expected = y_test\n",
    "\n",
    "for p, e in zip(predicted[::5], expected[::5]):\n",
    "    print(f'predicted: {p:.2f}, expected: {e:.2f}')"
   ]
  }
 ],
 "metadata": {
  "kernelspec": {
   "display_name": ".venv",
   "language": "python",
   "name": "python3"
  },
  "language_info": {
   "codemirror_mode": {
    "name": "ipython",
    "version": 3
   },
   "file_extension": ".py",
   "mimetype": "text/x-python",
   "name": "python",
   "nbconvert_exporter": "python",
   "pygments_lexer": "ipython3",
   "version": "3.13.1"
  }
 },
 "nbformat": 4,
 "nbformat_minor": 2
}
